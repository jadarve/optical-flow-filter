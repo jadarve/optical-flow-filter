{
 "cells": [
  {
   "cell_type": "markdown",
   "metadata": {},
   "source": [
    "# Using GPU Optical Flow Filter in Python"
   ]
  },
  {
   "cell_type": "markdown",
   "metadata": {},
   "source": [
    "This notebook illustrates how to use the GPU implementation of the optical flow filter in Python."
   ]
  },
  {
   "cell_type": "markdown",
   "metadata": {},
   "source": [
    "## 1. Installation"
   ]
  },
  {
   "cell_type": "markdown",
   "metadata": {},
   "source": [
    "Please follow the installation instructions provided in the **README.md** file in the [GitHub]( https://github.com/jadarve/optical-flow-filter) repository to install the C++ library and Python modules."
   ]
  },
  {
   "cell_type": "code",
   "execution_count": 1,
   "metadata": {
    "collapsed": false
   },
   "outputs": [
    {
     "name": "stdout",
     "output_type": "stream",
     "text": [
      "Populating the interactive namespace from numpy and matplotlib\n"
     ]
    }
   ],
   "source": [
    "%pylab inline"
   ]
  },
  {
   "cell_type": "code",
   "execution_count": 2,
   "metadata": {
    "collapsed": false
   },
   "outputs": [],
   "source": [
    "import scipy.misc as misc\n",
    "\n",
    "import numpy as np\n",
    "import numpy.linalg as la\n",
    "\n",
    "import matplotlib.pyplot as plt\n",
    "\n",
    "import scipy.misc as sm\n",
    "\n",
    "import flowfilter.plot as fplot\n",
    "import flowfilter.gpu.flowfilters as gpufilter"
   ]
  },
  {
   "cell_type": "markdown",
   "metadata": {},
   "source": [
    "## 2. Error performance\n",
    "\n",
    "The following piece computes optical flow using a **PyramidalFlowFilter** filter object. The filter is configured to 2 image pyramid levels and maximum optical flow of 4 pixels. [2, 4] smooth iterations are performed for at each pyramid level.\n",
    "\n",
    "The computed flow is compared to ground truth data produced for this sequence using Blender."
   ]
  },
  {
   "cell_type": "code",
   "execution_count": 3,
   "metadata": {
    "collapsed": false,
    "scrolled": false
   },
   "outputs": [
    {
     "name": "stdout",
     "output_type": "stream",
     "text": [
      "start\n",
      "aye\n",
      "loaded\n",
      "average elapsed time: 0.72052320838 ms\n"
     ]
    },
    {
     "name": "stderr",
     "output_type": "stream",
     "text": [
      "/home/jean-luc/anaconda2/lib/python2.7/site-packages/ipykernel/__main__.py:29: FutureWarning: comparison to `None` will result in an elementwise object comparison in the future.\n",
      "/home/jean-luc/anaconda2/lib/python2.7/site-packages/ipykernel/__main__.py:35: FutureWarning: comparison to `None` will result in an elementwise object comparison in the future.\n"
     ]
    }
   ],
   "source": [
    "# paths to image and ground truth data\n",
    "print 'start'\n",
    "basepath = '/home/jean-luc/git/jl_c_shared/' \n",
    "imgpath = basepath + 'images/frame_{0:08d}.png'\n",
    "outpath = basepath + 'output_images/'\n",
    "\n",
    "\n",
    "# GPU filter object with 2 pyramid levels\n",
    "print 'aye'\n",
    "gpuF = gpufilter.PyramidalFlowFilter(180, 240, 2)\n",
    "gpuF.gamma = [10, 50]                                   # gains for each level\n",
    "gpuF.maxflow = 4.0                                      # maximum optical flow value\n",
    "gpuF.smoothIterations = [2, 4]                          # smooth iterations per level\n",
    "\n",
    "# print('maxflow: {0}'.format(gpuF.maxflow))\n",
    "offset = 100\n",
    "K = 20\n",
    "\n",
    "print 'loaded'\n",
    "avgET = np.zeros(K)\n",
    "for k in range(offset, offset + K):\n",
    "    \n",
    "    ##########################################\n",
    "    # COMPUTATION\n",
    "    ##########################################\n",
    "    \n",
    "    # read and load next image to the filter\n",
    "    img = misc.imread(imgpath.format(k), flatten=True).astype(np.uint8)\n",
    "    gpuF.loadImage(img)\n",
    "    \n",
    "    # compute new estimate of optical flow\n",
    "    gpuF.compute()\n",
    "    \n",
    "    # return a Numpy ndarray with the new optical flow estimation\n",
    "    flow = gpuF.getFlow()\n",
    "    \n",
    "    # runtime in milliseconds\n",
    "    avgET[k - offset] = gpuF.elapsedTime()\n",
    "    \n",
    "    plt.saveFig\n",
    "    ##########################################\n",
    "    # PLOT RESULTS\n",
    "    ##########################################\n",
    "    \n",
    "    fplot.flowToColor(flow, 3.0)\n",
    "    scipy.misc.imsave('outfile.jpg', image_array)\n",
    "    \n",
    "print('average elapsed time: {0} ms'.format(np.average(avgET)))"
   ]
  },
  {
   "cell_type": "markdown",
   "metadata": {},
   "source": [
    "## 3. Runtime performance"
   ]
  },
  {
   "cell_type": "markdown",
   "metadata": {},
   "source": [
    "The following code snippet measures the average runtime performance of the algorithm. For this, it creates a **PyramidalFlowFilter** object configured with the same parameters as the experiment above.\n",
    "\n",
    "The parameters that affect runtime performance are:\n",
    "\n",
    "  * **Pyramid levels**\n",
    "  * **maxflow** Maximum optical flow allowed in the filter. This parameter directly affects the number of iterations required for the numerical implementation of the prediction stage of the filter.\n",
    "  * **smooth iterations** Smooth iterations, with average filter, applied after the update stage of the filter.\n",
    "  \n",
    "**NOTE**: The measured runtime through the Python wrappers is affected by the overhead of running the Python code. Faster runtimes can be expected in a pure C++ application."
   ]
  },
  {
   "cell_type": "code",
   "execution_count": 4,
   "metadata": {
    "collapsed": false
   },
   "outputs": [
    {
     "name": "stdout",
     "output_type": "stream",
     "text": [
      "average elapsed time: 0.995867583513 ms\n"
     ]
    },
    {
     "data": {
      "image/png": "[encoded data removed]",
      "text/plain": [
       "<matplotlib.figure.Figure at 0x7fe848ea6910>"
      ]
     },
     "metadata": {},
     "output_type": "display_data"
    }
   ],
   "source": [
    "K = 1000\n",
    "\n",
    "# GPU implementation\n",
    "gpuF = gpufilter.PyramidalFlowFilter(480, 640, 2)\n",
    "gpuF.gamma = [10, 50]\n",
    "gpuF.maxflow = 4.0\n",
    "gpuF.smoothIterations = [2, 4]\n",
    "\n",
    "# zeros image to feed the algorithm\n",
    "img = np.zeros((480, 640), dtype=np.uint8)\n",
    "\n",
    "avgET = np.zeros(K)\n",
    "\n",
    "for k in range(K):\n",
    "\n",
    "    gpuF.loadImage(img)\n",
    "    gpuF.compute()\n",
    "    \n",
    "    # compute time in milliseconds\n",
    "    avgET[k] = gpuF.elapsedTime()\n",
    "    \n",
    "\n",
    "    \n",
    "print('average elapsed time: {0} ms'.format(np.average(avgET)))\n",
    "\n",
    "plt.figure(figsize=(10,3))\n",
    "plt.plot(avgET)\n",
    "plt.title('Elapsed time (ms)')\n",
    "plt.show()"
   ]
  },
  {
   "cell_type": "markdown",
   "metadata": {},
   "source": [
    "## 4. References\n",
    "\n",
    "    @Article{2016_Adarve_RAL,\n",
    "      Title                    = {A Filter Formulation for Computing Real Time Optical Flow},\n",
    "      Author                   = {{Juan David} Adarve and Robert Mahony},\n",
    "      Journal                  = {Robotics and Automation Letters},\n",
    "      Year                     = {2016}\n",
    "    }"
   ]
  }
 ],
 "metadata": {
  "kernelspec": {
   "display_name": "Python 2",
   "language": "python",
   "name": "python2"
  },
  "language_info": {
   "codemirror_mode": {
    "name": "ipython",
    "version": 2
   },
   "file_extension": ".py",
   "mimetype": "text/x-python",
   "name": "python",
   "nbconvert_exporter": "python",
   "pygments_lexer": "ipython2",
   "version": "2.7.13"
  }
 },
 "nbformat": 4,
 "nbformat_minor": 0
}
